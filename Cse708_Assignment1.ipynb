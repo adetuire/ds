{
 "cells": [
  {
   "cell_type": "code",
   "execution_count": 2,
   "metadata": {},
   "outputs": [],
   "source": [
    "import pandas as pd\n",
    "import numpy as np"
   ]
  },
  {
   "cell_type": "code",
   "execution_count": 3,
   "metadata": {},
   "outputs": [],
   "source": [
    "#created a variable num to store all 10 numerical digits\n",
    "num = [0, 1, 2, 3, 4, 5, 6, 7, 8, 9]"
   ]
  },
  {
   "cell_type": "code",
   "execution_count": 4,
   "metadata": {},
   "outputs": [],
   "source": [
    "#Created a pandas series store the num variable\n",
    "all_ten = pd.Series(num)"
   ]
  },
  {
   "cell_type": "code",
   "execution_count": 5,
   "metadata": {},
   "outputs": [
    {
     "name": "stdout",
     "output_type": "stream",
     "text": [
      "0    0\n",
      "1    1\n",
      "2    2\n",
      "3    3\n",
      "4    4\n",
      "5    5\n",
      "6    6\n",
      "7    7\n",
      "8    8\n",
      "9    9\n",
      "dtype: int64\n"
     ]
    }
   ],
   "source": [
    "#Print the series\n",
    "print(all_ten)"
   ]
  },
  {
   "cell_type": "code",
   "execution_count": 6,
   "metadata": {},
   "outputs": [],
   "source": [
    "#Convert series to list\n",
    "ten_list = all_ten.values.tolist()"
   ]
  },
  {
   "cell_type": "code",
   "execution_count": 7,
   "metadata": {},
   "outputs": [
    {
     "name": "stdout",
     "output_type": "stream",
     "text": [
      "[0, 1, 2, 3, 4, 5, 6, 7, 8, 9]\n"
     ]
    }
   ],
   "source": [
    "#Print List\n",
    "print(ten_list)"
   ]
  },
  {
   "cell_type": "code",
   "execution_count": 8,
   "metadata": {},
   "outputs": [],
   "source": [
    "#Create dictionary\n",
    "dict = {'a': 100, 'b': 200, 'c':300, 'd':400, 'e':800} "
   ]
  },
  {
   "cell_type": "code",
   "execution_count": 9,
   "metadata": {},
   "outputs": [],
   "source": [
    "#Create one-dimensional data\n",
    "s_dict = pd.Series(dict)"
   ]
  },
  {
   "cell_type": "code",
   "execution_count": 10,
   "metadata": {},
   "outputs": [
    {
     "name": "stdout",
     "output_type": "stream",
     "text": [
      "a    100\n",
      "b    200\n",
      "c    300\n",
      "d    400\n",
      "e    800\n",
      "dtype: int64\n"
     ]
    }
   ],
   "source": [
    "#Print dictionary\n",
    "print(s_dict)"
   ]
  },
  {
   "cell_type": "code",
   "execution_count": 26,
   "metadata": {},
   "outputs": [
    {
     "name": "stdout",
     "output_type": "stream",
     "text": [
      "        name  score  attempts qualify\n",
      "a  Anastasia   12.5         1     yes\n",
      "b       Dima    9.0         3      no\n",
      "e      Emily    9.0         2      no\n",
      "d      James    NaN         3      no\n",
      "j      Jonas   19.0         1     yes\n",
      "c  Katherine   16.5         2     yes\n",
      "i      Kevin    8.0         2      no\n",
      "h      Laura    NaN         1      no\n",
      "g     Mathew   14.5         1     yes\n",
      "f    Michael   20.0         3     yes\n"
     ]
    }
   ],
   "source": [
    "#Creating students data\n",
    "students = ({\n",
    "    'name' :[\"Anastasia\", \"Dima\", \"Katherine\", \"James\", \"Emily\", \"Michael\", \"Mathew\", \"Laura\", \"Kevin\", \" Jonas\"] ,\n",
    "    'score' :[12.5, 9.0,16.5,None,9.0,20.0,14.5,None ,8.0,19.0],\n",
    "    'attempts' :[1,3,2,3,2,3,1,1,2,1],\n",
    "    'qualify' :['yes','no','yes','no','no','yes','yes','no','no','yes']\n",
    "})\n",
    "#Converting data to dataframe\n",
    "df = pd.DataFrame(students, index = ['a','b','c','d','e','f','g','h','i','j'])\n",
    "#use strip to remove leading and trailing spaces from name column\n",
    "df['name'] = df['name'].str.strip()\n",
    "#sort name column by ascending order and score by descending order\n",
    "df.sort_values(['name','score'],inplace=True, ascending = [True, False])\n",
    "#Print dataframe\n",
    "print(df)"
   ]
  },
  {
   "cell_type": "code",
   "execution_count": 38,
   "metadata": {},
   "outputs": [
    {
     "name": "stdout",
     "output_type": "stream",
     "text": [
      "Name of students: ['James', 'Laura']\n"
     ]
    }
   ],
   "source": [
    "#print number of students whose scores were not recorded\n",
    "df2 = df[df['score'].isnull()]['name'].tolist()\n",
    "#Print name of students\n",
    "print('Name of students:',df2)"
   ]
  },
  {
   "cell_type": "code",
   "execution_count": 52,
   "metadata": {},
   "outputs": [
    {
     "name": "stdout",
     "output_type": "stream",
     "text": [
      "Name of students: ['Dima', 'Emily', 'James', 'Katherine', 'Kevin', 'Michael']\n"
     ]
    }
   ],
   "source": [
    "#print number of students who attempted exam at least twice\n",
    "df3 = df[df['attempts'] >= 2]['name'].tolist()\n",
    "#Print name of students\n",
    "print('Name of students:', df3)"
   ]
  },
  {
   "cell_type": "code",
   "execution_count": 81,
   "metadata": {},
   "outputs": [
    {
     "name": "stdout",
     "output_type": "stream",
     "text": [
      "        name  score\n",
      "a  Anastasia   12.5\n",
      "j      Jonas   19.0\n",
      "g     Mathew   14.5\n"
     ]
    }
   ],
   "source": [
    "#Print name and score of students who qualified at first attempt\n",
    "df4 = df[(df['attempts'] == 1) & (df['qualify'] == 'yes')][(['name','score'])]\n",
    "#Print name of students\n",
    "print(df4)"
   ]
  },
  {
   "cell_type": "code",
   "execution_count": 84,
   "metadata": {},
   "outputs": [
    {
     "name": "stderr",
     "output_type": "stream",
     "text": [
      "'export' is not recognized as an internal or external command,\n",
      "operable program or batch file.\n"
     ]
    }
   ],
   "source": []
  }
 ],
 "metadata": {
  "kernelspec": {
   "display_name": "Python 3",
   "language": "python",
   "name": "python3"
  },
  "language_info": {
   "codemirror_mode": {
    "name": "ipython",
    "version": 3
   },
   "file_extension": ".py",
   "mimetype": "text/x-python",
   "name": "python",
   "nbconvert_exporter": "python",
   "pygments_lexer": "ipython3",
   "version": "3.8.5"
  }
 },
 "nbformat": 4,
 "nbformat_minor": 4
}
